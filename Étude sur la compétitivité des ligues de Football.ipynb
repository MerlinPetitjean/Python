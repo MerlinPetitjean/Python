{
 "cells": [
  {
   "cell_type": "markdown",
   "id": "fd0fd500-c976-47e1-ab8b-9d383ec2bb7a",
   "metadata": {},
   "source": [
    "# <center> Étude sur la compétitivité des ligues de haut niveau. </center>"
   ]
  },
  {
   "cell_type": "code",
   "execution_count": null,
   "id": "07f08579-700c-481a-91cf-a4d380ac65a2",
   "metadata": {},
   "outputs": [],
   "source": []
  }
 ],
 "metadata": {
  "kernelspec": {
   "display_name": "Python 3 (ipykernel)",
   "language": "python",
   "name": "python3"
  },
  "language_info": {
   "codemirror_mode": {
    "name": "ipython",
    "version": 3
   },
   "file_extension": ".py",
   "mimetype": "text/x-python",
   "name": "python",
   "nbconvert_exporter": "python",
   "pygments_lexer": "ipython3",
   "version": "3.12.0"
  }
 },
 "nbformat": 4,
 "nbformat_minor": 5
}
